{
 "cells": [
  {
   "cell_type": "code",
   "execution_count": 1,
   "metadata": {
    "colab": {
     "base_uri": "https://localhost:8080/",
     "height": 401
    },
    "colab_type": "code",
    "id": "eNqJmaFsRhlS",
    "outputId": "ccbe487c-5501-45de-eaae-096bf2d12d6a"
   },
   "outputs": [
    {
     "name": "stdout",
     "output_type": "stream",
     "text": [
      "Requirement already satisfied: torch in /home/adit/.virtualenvs/dt_train/lib/python3.6/site-packages (1.0.0)\n",
      "Requirement already satisfied: torchvision in /home/adit/.virtualenvs/dt_train/lib/python3.6/site-packages (0.2.1)\n",
      "Requirement already satisfied: torch in /home/adit/.virtualenvs/dt_train/lib/python3.6/site-packages (from torchvision) (1.0.0)\n",
      "Requirement already satisfied: pillow>=4.1.1 in /home/adit/.virtualenvs/dt_train/lib/python3.6/site-packages (from torchvision) (5.4.1)\n",
      "Requirement already satisfied: six in /home/adit/.virtualenvs/dt_train/lib/python3.6/site-packages (from torchvision) (1.12.0)\n",
      "Requirement already satisfied: numpy in /home/adit/.virtualenvs/dt_train/lib/python3.6/site-packages (from torchvision) (1.16.0)\n",
      "Requirement already satisfied: tqdm in /home/adit/.virtualenvs/dt_train/lib/python3.6/site-packages (4.29.1)\n"
     ]
    }
   ],
   "source": [
    "# Install pytorch and tqdm (if necessary)\n",
    "!pip install torch\n",
    "!pip install torchvision\n",
    "!pip install tqdm"
   ]
  },
  {
   "cell_type": "code",
   "execution_count": 2,
   "metadata": {
    "colab": {},
    "colab_type": "code",
    "id": "V3Hu3-dhIaga"
   },
   "outputs": [],
   "source": [
    "# Handle imports\n",
    "\n",
    "import math\n",
    "import os\n",
    "import datetime\n",
    "import csv\n",
    "%matplotlib inline\n",
    "import matplotlib.pyplot as plt\n",
    "import cv2\n",
    "\n",
    "import torch\n",
    "import torch.nn as nn\n",
    "import torch.nn.functional as F\n",
    "import torch.optim as optim\n",
    "import torchvision\n",
    "import torchvision.models as models\n",
    "from torchvision import transforms\n",
    "from torch.autograd import Variable\n",
    "import numpy as np\n",
    "from tqdm import tqdm_notebook as tqdm\n",
    "\n",
    "from IPython import display"
   ]
  },
  {
   "cell_type": "code",
   "execution_count": 3,
   "metadata": {
    "colab": {},
    "colab_type": "code",
    "id": "Z7cF6oVvIesG"
   },
   "outputs": [],
   "source": [
    "# The Args object will contain all of our parameters\n",
    "# If you want to run with different arguments, create another Args object\n",
    "\n",
    "class Args(object):\n",
    "  def __init__(self, name='cholec80', batch_size=64, test_batch_size=1000,\n",
    "            epochs=15, lr=0.01/20, optimizer='adam', momentum=0.5,\n",
    "            seed=1, log_interval=100, dataset='cholec80',\n",
    "            data_dir='./data', model='DenseNetPretrainedFC',\n",
    "            cuda=True):\n",
    "    self.name = name # name for this training run. Don't use spaces.\n",
    "    self.batch_size = batch_size\n",
    "    self.test_batch_size = test_batch_size # Input batch size for testing\n",
    "    self.epochs = epochs # Number of epochs to train\n",
    "    self.lr = lr # Learning rate\n",
    "    self.optimizer = optimizer # sgd/p1sgd/adam/rms_prop\n",
    "    self.momentum = momentum # SGD Momentum\n",
    "    self.seed = seed # Random seed\n",
    "    self.log_interval = log_interval # Batches to wait before logging\n",
    "                                     # detailed status. 0 = never\n",
    "    self.dataset = dataset # mnist/fashion_mnist\n",
    "    self.data_dir = data_dir\n",
    "    self.model = model\n",
    "    self.cuda = cuda and torch.cuda.is_available()"
   ]
  },
  {
   "cell_type": "code",
   "execution_count": null,
   "metadata": {},
   "outputs": [],
   "source": [
    "# creating cholec80 dataset class\n",
    "\n",
    "class cholec80(Dataset):\n",
    "    def __init__(self, csv_dir, root_dir, transform=None):\n",
    "        \"\"\"\n",
    "        Args: \n",
    "            csv_file (string): Path to the csv file with annotations.\n",
    "            root_dir (string): Directory with all the images.\n",
    "            transform (callable, optional): Optional transform to be applied\n",
    "                on a sample.\n",
    "        \"\"\"\n",
    "        self.landmarks_frame = pd.read_csv(csv_file)\n",
    "        self.root_dir = root_dir\n",
    "        self.transform = transform\n",
    "\n",
    "    def __len__(self):\n",
    "        return len(self.landmarks_frame)\n",
    "\n",
    "    def __getitem__(self, idx):\n",
    "        img_name = os.path.join(self.root_dir,\n",
    "                                self.landmarks_frame.iloc[idx, 0])\n",
    "        image = io.imread(img_name)\n",
    "        landmarks = self.landmarks_frame.iloc[idx, 1:].as_matrix()\n",
    "        landmarks = landmarks.astype('float').reshape(-1, 2)\n",
    "        sample = {'image': image, 'landmarks': landmarks}\n",
    "\n",
    "        if self.transform:\n",
    "            sample = self.transform(sample)\n",
    "\n",
    "        return sample"
   ]
  },
  {
   "cell_type": "code",
   "execution_count": 4,
   "metadata": {
    "colab": {},
    "colab_type": "code",
    "id": "l2Ejw36nIpRr"
   },
   "outputs": [],
   "source": [
    "def prepare_dataset(args):\n",
    "    # choose the dataset\n",
    "    if args.dataset == 'cholec80':\n",
    "        DatasetClass = cholec80\n",
    "        print(\"using cholec80\")\n",
    "    else:\n",
    "        raise ValueError('unknown dataset: ' + args.dataset +\n",
    "                ' try mnist or fashion_mnist')\n",
    "\n",
    "    def time_stamp(fname, fmt='%m-%d-%H-%M_{fname}'):\n",
    "        return datetime.datetime.now().strftime(fmt).format(fname=fname)\n",
    "        \n",
    "    training_run_name = time_stamp(args.dataset + '_' + args.name)\n",
    "\n",
    "    kwargs = {'num_workers': 1, 'pin_memory': True} if args.cuda else {}\n",
    "\n",
    "    # Create the dataset: mnist or fasion_mnist\n",
    "    dataset_dir = os.path.join(args.data_dir, args.dataset)\n",
    "    training_run_dir = os.path.join(args.data_dir, training_run_name)\n",
    "    train_dataset = DatasetClass(\n",
    "        dataset_dir, train=True, download=True,\n",
    "        transform=transforms.Compose([\n",
    "            transforms.ToTensor(),\n",
    "            transforms.Normalize((0.1307,), (0.3081,))\n",
    "        ]))\n",
    "    train_loader = torch.utils.data.DataLoader(\n",
    "        train_dataset, batch_size=args.batch_size, shuffle=True, **kwargs)\n",
    "    test_dataset = DatasetClass(\n",
    "        dataset_dir, train=False, transform=transforms.Compose([\n",
    "            transforms.ToTensor(),\n",
    "            transforms.Normalize((0.1307,), (0.3081,))\n",
    "        ]))\n",
    "    test_loader = torch.utils.data.DataLoader(\n",
    "        test_dataset, batch_size=args.test_batch_size, shuffle=True, **kwargs)\n",
    "    \n",
    "    if not os.path.exists(training_run_dir):\n",
    "        os.makedirs(training_run_dir)\n",
    "\n",
    "    return train_loader, test_loader, train_dataset, test_dataset, training_run_dir"
   ]
  },
  {
   "cell_type": "code",
   "execution_count": 29,
   "metadata": {
    "colab": {
     "base_uri": "https://localhost:8080/",
     "height": 95
    },
    "colab_type": "code",
    "id": "AVGaeczNItaS",
    "outputId": "13770286-c3ad-4787-a3cb-0e8db78d7069"
   },
   "outputs": [
    {
     "name": "stdout",
     "output_type": "stream",
     "text": [
      "using mnist\n"
     ]
    },
    {
     "data": {
      "image/png": "[encoded data removed]",
      "text/plain": [
       "<Figure size 432x288 with 6 Axes>"
      ]
     },
     "metadata": {
      "needs_background": "light"
     },
     "output_type": "display_data"
    }
   ],
   "source": [
    "# visualize some images\n",
    "\n",
    "args = Args()\n",
    "_, _, _, test_dataset, _ = prepare_dataset(args)\n",
    "images = test_dataset.test_data[:6]\n",
    "labels = test_dataset.test_labels[:6]\n",
    "fig, axes = plt.subplots(1,6)\n",
    "for axis, img, lbl in zip(axes, images, labels):\n",
    "    axis.imshow(img)\n",
    "    axis.set_title(str(lbl.item()))\n",
    "    axis.set_yticklabels([])\n",
    "    axis.set_xticklabels([])\n",
    "plt.show()\n"
   ]
  },
  {
   "cell_type": "code",
   "execution_count": 30,
   "metadata": {
    "colab": {},
    "colab_type": "code",
    "id": "tD-StYJ2I6u2"
   },
   "outputs": [],
   "source": [
    "def train(model, optimizer, train_loader, epoch, total_minibatch_count,\n",
    "        train_losses, train_accs):\n",
    "    # Training for a full epoch\n",
    "\n",
    "    model.train()\n",
    "    correct_count, total_loss, total_acc = 0., 0., 0.\n",
    "    progress_bar = tqdm.tqdm(train_loader, desc='Training')\n",
    "    \n",
    "    for batch_idx, (data, target) in enumerate(progress_bar):\n",
    "        if args.cuda:\n",
    "            data, target = data.cuda(), target.cuda()\n",
    "        data, target = Variable(data), Variable(target)\n",
    "\n",
    "        optimizer.zero_grad()\n",
    "\n",
    "        # Forward prediction step\n",
    "        output = model(data)\n",
    "        loss = F.nll_loss(output, target)\n",
    "\n",
    "        # Backpropagation step\n",
    "        loss.backward()\n",
    "        optimizer.step()\n",
    "\n",
    "        # The batch has ended, determine the accuracy of the predicted outputs\n",
    "        pred = output.data.max(1)[1]  \n",
    "\n",
    "        # target labels and predictions are categorical values from 0 to 9.\n",
    "        matches = target == pred\n",
    "        accuracy = matches.float().mean()\n",
    "        correct_count += matches.sum()\n",
    "\n",
    "        if args.log_interval != 0 and \\\n",
    "                total_minibatch_count % args.log_interval == 0:\n",
    "\n",
    "            train_losses.append(loss.data[0])\n",
    "            train_accs.append(accuracy.data[0])\n",
    "            \n",
    "        total_loss += loss.data\n",
    "        total_acc += accuracy.data\n",
    "            \n",
    "        progress_bar.set_description(\n",
    "            'Epoch: {} loss: {:.4f}, acc: {:.2f}'.format(\n",
    "                epoch, total_loss / (batch_idx + 1), total_acc / (batch_idx + 1)))\n",
    "        progress_bar.refresh()\n",
    "\n",
    "        total_minibatch_count += 1\n",
    "\n",
    "    return total_minibatch_count"
   ]
  },
  {
   "cell_type": "code",
   "execution_count": 31,
   "metadata": {
    "colab": {},
    "colab_type": "code",
    "id": "KgCLKEHcI-bg"
   },
   "outputs": [],
   "source": [
    "def test(model, test_loader, epoch, total_minibatch_count,\n",
    "        val_losses, val_accs):\n",
    "    # Validation Testing\n",
    "    model.eval()\n",
    "    test_loss, correct = 0., 0.\n",
    "    progress_bar = tqdm.tqdm(test_loader, desc='Validation')\n",
    "    with torch.no_grad():\n",
    "        for data, target in progress_bar:\n",
    "            if args.cuda:\n",
    "                data, target = data.cuda(), target.cuda()\n",
    "            data, target = Variable(data), Variable(target)\n",
    "            output = model(data)\n",
    "            test_loss += F.nll_loss(output, target, reduction='sum').data  # sum up batch loss\n",
    "            pred = output.data.max(1)[1]  # get the index of the max log-probability\n",
    "            correct += (target == pred).float().sum()\n",
    "\n",
    "    test_loss /= len(test_loader.dataset)\n",
    "    \n",
    "    acc = correct / len(test_loader.dataset)\n",
    "\n",
    "    val_losses.append(test_loss)\n",
    "    val_accs.append(acc)\n",
    "    \n",
    "    progress_bar.clear()\n",
    "    progress_bar.write(\n",
    "        '\\nEpoch: {} validation test results - Average val_loss: {:.4f}, val_acc: {}/{} ({:.2f}%)'.format(\n",
    "            epoch, test_loss, correct, len(test_loader.dataset),\n",
    "            100. * correct / len(test_loader.dataset)))\n",
    "\n",
    "    return acc"
   ]
  },
  {
   "cell_type": "code",
   "execution_count": 33,
   "metadata": {
    "colab": {},
    "colab_type": "code",
    "id": "khV-_vFSJGT8"
   },
   "outputs": [],
   "source": [
    "# Run the experiment\n",
    "def run_experiment(args):\n",
    "\n",
    "    total_minibatch_count = 0\n",
    "\n",
    "    torch.manual_seed(args.seed)\n",
    "    if args.cuda:\n",
    "        torch.cuda.manual_seed(args.seed)\n",
    "\n",
    "    train_loader, test_loader, _, _, run_path = prepare_dataset(args)\n",
    "\n",
    "    epochs_to_run = args.epochs\n",
    "\n",
    "    # Choose model\n",
    "    # TODO add all the other models here if their parameter is specified\n",
    "    if args.model == 'default' or args.model == 'P2Q7DefaultChannelsNet':\n",
    "        model = Net()\n",
    "    elif args.model in globals():\n",
    "        model = globals()[args.model]()\n",
    "    else:\n",
    "        raise ValueError('Unknown model type: ' + args.model)\n",
    "\n",
    "    if args.cuda:\n",
    "        model.cuda()\n",
    "\n",
    "    # Choose optimizer\n",
    "    if args.optimizer == 'sgd':\n",
    "        optimizer = optim.SGD(model.parameters(), lr=args.lr, momentum=args.momentum)\n",
    "    elif args.optimizer == 'adam':\n",
    "        optimizer = optim.Adam(model.parameters())\n",
    "    elif args.optimizer == 'rms_prop':\n",
    "        optimizer = optim.RMSprop(model.parameters())\n",
    "    else:\n",
    "        raise ValueError('Unsupported optimizer: ' + args.optimizer)\n",
    "\n",
    "    # Run the primary training loop, starting with validation accuracy of 0\n",
    "    val_acc = 0\n",
    "    train_losses, train_accs = [], []\n",
    "    val_losses, val_accs = [], []\n",
    "\n",
    "    for epoch in range(1, epochs_to_run + 1):\n",
    "        \n",
    "        # train for 1 epoch\n",
    "        total_minibatch_count = train(model, optimizer, train_loader,\n",
    "                                    epoch, total_minibatch_count,\n",
    "                                    train_losses, train_accs)\n",
    "        # validate progress on test dataset\n",
    "        val_acc = test(model, test_loader, epoch, total_minibatch_count,\n",
    "                       val_losses, val_accs)\n",
    "        \n",
    "        torch.save(model.state_dict(), 'ultimate_model.pt')\n",
    "        \n",
    "    fig, axes = plt.subplots(1,4, figsize=(13,4))\n",
    "    # plot the losses and acc\n",
    "    plt.title(args.name)\n",
    "    axes[0].plot(train_losses)\n",
    "    axes[0].set_title(\"Loss\")\n",
    "    axes[1].plot(train_accs)\n",
    "    axes[1].set_title(\"Acc\")\n",
    "    axes[2].plot(val_losses)\n",
    "    axes[2].set_title(\"Val loss\")\n",
    "    axes[3].plot(val_accs)\n",
    "    axes[3].set_title(\"Val Acc\")\n",
    "    \n",
    "    # Write to csv file\n",
    "    with open(os.path.join(run_path + 'train.csv'), 'w') as f:\n",
    "        csvw = csv.writer(f, delimiter=',')\n",
    "        for loss, acc in zip(train_losses, train_accs):\n",
    "            csvw.writerow((loss, acc))\n",
    "\n",
    "    # Predict and Test\n",
    "    images, labels = next(iter(test_loader))\n",
    "    if args.cuda:\n",
    "        images, labels = images.cuda(), labels.cuda()\n",
    "    output = model(images)\n",
    "    predicted = torch.max(output, 1)[1]\n",
    "    fig, axes = plt.subplots(1,6)\n",
    "    for i, (axis, img, lbl) in enumerate(zip(axes, images, predicted)):\n",
    "        if i > 5:\n",
    "            break\n",
    "        img = img.permute(1,2,0).squeeze()\n",
    "        axis.imshow(img)\n",
    "        axis.set_title(str(lbl.data))\n",
    "        axis.set_yticklabels([])\n",
    "        axis.set_xticklabels([])\n",
    "            \n",
    "    if args.dataset == 'fashion_mnist' and val_acc > 0.92 and val_acc <= 1.0:\n",
    "        print(\"Congratulations, you beat the Question 13 minimum of 92\"\n",
    "            \"with ({:.2f}%) validation accuracy!\".format(val_acc))"
   ]
  },
  {
   "cell_type": "code",
   "execution_count": 34,
   "metadata": {
    "colab": {
     "base_uri": "https://localhost:8080/",
     "height": 1106
    },
    "colab_type": "code",
    "id": "OQ6ztrNWJKmm",
    "outputId": "5efbdeb9-ad0e-4ee1-d238-8d66c0f34502"
   },
   "outputs": [
    {
     "name": "stderr",
     "output_type": "stream",
     "text": [
      "\r",
      "Training:   0%|          | 0/938 [00:00<?, ?it/s]"
     ]
    },
    {
     "name": "stdout",
     "output_type": "stream",
     "text": [
      "using mnist\n"
     ]
    },
    {
     "name": "stderr",
     "output_type": "stream",
     "text": [
      "/home/adit/.virtualenvs/DeepLearning/lib/python3.6/site-packages/ipykernel_launcher.py:35: UserWarning: invalid index of a 0-dim tensor. This will be an error in PyTorch 0.5. Use tensor.item() to convert a 0-dim tensor to a Python number\n",
      "/home/adit/.virtualenvs/DeepLearning/lib/python3.6/site-packages/ipykernel_launcher.py:36: UserWarning: invalid index of a 0-dim tensor. This will be an error in PyTorch 0.5. Use tensor.item() to convert a 0-dim tensor to a Python number\n",
      "Epoch: 1 loss: 2.1206, acc: 0.46: 100%|██████████| 938/938 [02:59<00:00,  5.78it/s]\n",
      "Validation: 100%|██████████| 10/10 [00:10<00:00,  1.06s/it]\n",
      "Epoch: 2 loss: 1.8312, acc: 0.69:   0%|          | 1/938 [00:00<02:57,  5.28it/s]"
     ]
    },
    {
     "name": "stdout",
     "output_type": "stream",
     "text": [
      "\n",
      "Epoch: 1 validation test results - Average val_loss: 1.8363, val_acc: 7162.0/10000 (71.62%)\n"
     ]
    },
    {
     "name": "stderr",
     "output_type": "stream",
     "text": [
      "Epoch: 2 loss: 1.4630, acc: 0.72: 100%|██████████| 938/938 [03:01<00:00,  5.64it/s]\n",
      "Validation: 100%|██████████| 10/10 [00:10<00:00,  1.03s/it]\n",
      "Training:   0%|          | 0/938 [00:00<?, ?it/s]"
     ]
    },
    {
     "name": "stdout",
     "output_type": "stream",
     "text": [
      "\n",
      "Epoch: 2 validation test results - Average val_loss: 1.0243, val_acc: 8189.0/10000 (81.89%)\n"
     ]
    },
    {
     "name": "stderr",
     "output_type": "stream",
     "text": [
      "Epoch: 3 loss: 0.7840, acc: 0.85: 100%|██████████| 938/938 [02:57<00:00,  6.66it/s]\n",
      "Validation: 100%|██████████| 10/10 [00:09<00:00,  1.01it/s]\n",
      "Epoch: 4 loss: 0.6923, acc: 0.84:   0%|          | 1/938 [00:00<02:43,  5.74it/s]"
     ]
    },
    {
     "name": "stdout",
     "output_type": "stream",
     "text": [
      "\n",
      "Epoch: 3 validation test results - Average val_loss: 0.5195, val_acc: 9079.0/10000 (90.79%)\n"
     ]
    },
    {
     "name": "stderr",
     "output_type": "stream",
     "text": [
      "Epoch: 4 loss: 0.4482, acc: 0.91: 100%|██████████| 938/938 [02:40<00:00,  5.84it/s]\n",
      "Validation: 100%|██████████| 10/10 [00:10<00:00,  1.10s/it]\n",
      "Epoch: 5 loss: 0.4169, acc: 0.88:   0%|          | 1/938 [00:00<02:47,  5.59it/s]"
     ]
    },
    {
     "name": "stdout",
     "output_type": "stream",
     "text": [
      "\n",
      "Epoch: 4 validation test results - Average val_loss: 0.3122, val_acc: 9367.0/10000 (93.67%)\n"
     ]
    },
    {
     "name": "stderr",
     "output_type": "stream",
     "text": [
      "Epoch: 5 loss: 0.3030, acc: 0.93: 100%|██████████| 938/938 [02:40<00:00,  5.84it/s]\n",
      "Validation: 100%|██████████| 10/10 [00:09<00:00,  1.01it/s]\n",
      "Epoch: 6 loss: 0.3023, acc: 0.94:   0%|          | 1/938 [00:00<02:35,  6.03it/s]"
     ]
    },
    {
     "name": "stdout",
     "output_type": "stream",
     "text": [
      "\n",
      "Epoch: 5 validation test results - Average val_loss: 0.2148, val_acc: 9505.0/10000 (95.05%)\n"
     ]
    },
    {
     "name": "stderr",
     "output_type": "stream",
     "text": [
      "Epoch: 6 loss: 0.2323, acc: 0.94: 100%|██████████| 938/938 [02:41<00:00,  6.26it/s]\n",
      "Validation: 100%|██████████| 10/10 [00:09<00:00,  1.01it/s]\n",
      "Epoch: 7 loss: 0.2133, acc: 0.94:   0%|          | 1/938 [00:00<02:45,  5.68it/s]"
     ]
    },
    {
     "name": "stdout",
     "output_type": "stream",
     "text": [
      "\n",
      "Epoch: 6 validation test results - Average val_loss: 0.1669, val_acc: 9593.0/10000 (95.93%)\n"
     ]
    },
    {
     "name": "stderr",
     "output_type": "stream",
     "text": [
      "Epoch: 7 loss: 0.1906, acc: 0.95: 100%|██████████| 938/938 [02:39<00:00,  5.86it/s]\n",
      "Validation: 100%|██████████| 10/10 [00:10<00:00,  1.00it/s]\n",
      "Epoch: 8 loss: 0.1929, acc: 0.97:   0%|          | 1/938 [00:00<02:32,  6.13it/s]"
     ]
    },
    {
     "name": "stdout",
     "output_type": "stream",
     "text": [
      "\n",
      "Epoch: 7 validation test results - Average val_loss: 0.1388, val_acc: 9647.0/10000 (96.47%)\n"
     ]
    },
    {
     "name": "stderr",
     "output_type": "stream",
     "text": [
      "Epoch: 8 loss: 0.1642, acc: 0.96: 100%|██████████| 938/938 [02:40<00:00,  6.75it/s]\n",
      "Validation: 100%|██████████| 10/10 [00:09<00:00,  1.01it/s]\n",
      "Epoch: 9 loss: 0.1377, acc: 0.97:   0%|          | 1/938 [00:00<02:30,  6.21it/s]"
     ]
    },
    {
     "name": "stdout",
     "output_type": "stream",
     "text": [
      "\n",
      "Epoch: 8 validation test results - Average val_loss: 0.1197, val_acc: 9692.0/10000 (96.92%)\n"
     ]
    },
    {
     "name": "stderr",
     "output_type": "stream",
     "text": [
      "Epoch: 9 loss: 0.1440, acc: 0.96: 100%|██████████| 938/938 [03:10<00:00,  6.66it/s]\n",
      "Validation: 100%|██████████| 10/10 [00:10<00:00,  1.01s/it]\n",
      "Epoch: 10 loss: 0.1031, acc: 0.98:   0%|          | 1/938 [00:00<02:34,  6.08it/s]"
     ]
    },
    {
     "name": "stdout",
     "output_type": "stream",
     "text": [
      "\n",
      "Epoch: 9 validation test results - Average val_loss: 0.1054, val_acc: 9725.0/10000 (97.25%)\n"
     ]
    },
    {
     "name": "stderr",
     "output_type": "stream",
     "text": [
      "Epoch: 10 loss: 0.1289, acc: 0.97: 100%|██████████| 938/938 [02:56<00:00,  5.31it/s]\n",
      "Validation: 100%|██████████| 10/10 [00:09<00:00,  1.02it/s]\n",
      "Epoch: 11 loss: 0.3053, acc: 0.92:   0%|          | 1/938 [00:00<02:39,  5.87it/s]"
     ]
    },
    {
     "name": "stdout",
     "output_type": "stream",
     "text": [
      "\n",
      "Epoch: 10 validation test results - Average val_loss: 0.0939, val_acc: 9748.0/10000 (97.48%)\n"
     ]
    },
    {
     "name": "stderr",
     "output_type": "stream",
     "text": [
      "Epoch: 11 loss: 0.1183, acc: 0.97: 100%|██████████| 938/938 [03:19<00:00,  5.57it/s]\n",
      "Validation: 100%|██████████| 10/10 [00:10<00:00,  1.01it/s]\n",
      "Training:   0%|          | 0/938 [00:00<?, ?it/s]"
     ]
    },
    {
     "name": "stdout",
     "output_type": "stream",
     "text": [
      "\n",
      "Epoch: 11 validation test results - Average val_loss: 0.0864, val_acc: 9766.0/10000 (97.66%)\n"
     ]
    },
    {
     "name": "stderr",
     "output_type": "stream",
     "text": [
      "Epoch: 12 loss: 0.1080, acc: 0.97: 100%|██████████| 938/938 [03:01<00:00,  5.93it/s]\n",
      "Validation: 100%|██████████| 10/10 [00:10<00:00,  1.02s/it]\n",
      "Epoch: 13 loss: 0.2353, acc: 0.95:   0%|          | 1/938 [00:00<02:53,  5.40it/s]"
     ]
    },
    {
     "name": "stdout",
     "output_type": "stream",
     "text": [
      "\n",
      "Epoch: 12 validation test results - Average val_loss: 0.0778, val_acc: 9783.0/10000 (97.83%)\n"
     ]
    },
    {
     "name": "stderr",
     "output_type": "stream",
     "text": [
      "Epoch: 13 loss: 0.1003, acc: 0.97: 100%|██████████| 938/938 [02:45<00:00,  5.66it/s]\n",
      "Validation: 100%|██████████| 10/10 [00:09<00:00,  1.01it/s]\n",
      "Epoch: 14 loss: 0.0607, acc: 0.98:   0%|          | 1/938 [00:00<02:41,  5.82it/s]"
     ]
    },
    {
     "name": "stdout",
     "output_type": "stream",
     "text": [
      "\n",
      "Epoch: 13 validation test results - Average val_loss: 0.0721, val_acc: 9798.0/10000 (97.98%)\n"
     ]
    },
    {
     "name": "stderr",
     "output_type": "stream",
     "text": [
      "Epoch: 14 loss: 0.0939, acc: 0.97: 100%|██████████| 938/938 [02:45<00:00,  5.71it/s]\n",
      "Validation: 100%|██████████| 10/10 [00:10<00:00,  1.01s/it]\n",
      "Epoch: 15 loss: 0.1006, acc: 0.97:   0%|          | 0/938 [00:00<?, ?it/s]"
     ]
    },
    {
     "name": "stdout",
     "output_type": "stream",
     "text": [
      "\n",
      "Epoch: 14 validation test results - Average val_loss: 0.0679, val_acc: 9809.0/10000 (98.09%)\n"
     ]
    },
    {
     "name": "stderr",
     "output_type": "stream",
     "text": [
      "Epoch: 15 loss: 0.0876, acc: 0.98: 100%|██████████| 938/938 [02:58<00:00,  5.98it/s]\n",
      "Validation: 100%|██████████| 10/10 [00:09<00:00,  1.00it/s]\n"
     ]
    },
    {
     "name": "stdout",
     "output_type": "stream",
     "text": [
      "\n",
      "Epoch: 15 validation test results - Average val_loss: 0.0635, val_acc: 9822.0/10000 (98.22%)\n"
     ]
    },
    {
     "ename": "RuntimeError",
     "evalue": "$ Torch: not enough memory: you tried to allocate 0GB. Buy new RAM! at /pytorch/aten/src/TH/THGeneral.cpp:204",
     "output_type": "error",
     "traceback": [
      "\u001b[0;31m---------------------------------------------------------------------------\u001b[0m",
      "\u001b[0;31mRuntimeError\u001b[0m                              Traceback (most recent call last)",
      "\u001b[0;32m<ipython-input-34-c32dc8515ad6>\u001b[0m in \u001b[0;36m<module>\u001b[0;34m\u001b[0m\n\u001b[0;32m----> 1\u001b[0;31m \u001b[0mrun_experiment\u001b[0m\u001b[0;34m(\u001b[0m\u001b[0mArgs\u001b[0m\u001b[0;34m(\u001b[0m\u001b[0;34m)\u001b[0m\u001b[0;34m)\u001b[0m\u001b[0;34m\u001b[0m\u001b[0m\n\u001b[0m",
      "\u001b[0;32m<ipython-input-33-fa8654172b1d>\u001b[0m in \u001b[0;36mrun_experiment\u001b[0;34m(args)\u001b[0m\n\u001b[1;32m     73\u001b[0m     \u001b[0;32mif\u001b[0m \u001b[0margs\u001b[0m\u001b[0;34m.\u001b[0m\u001b[0mcuda\u001b[0m\u001b[0;34m:\u001b[0m\u001b[0;34m\u001b[0m\u001b[0m\n\u001b[1;32m     74\u001b[0m         \u001b[0mimages\u001b[0m\u001b[0;34m,\u001b[0m \u001b[0mlabels\u001b[0m \u001b[0;34m=\u001b[0m \u001b[0mimages\u001b[0m\u001b[0;34m.\u001b[0m\u001b[0mcuda\u001b[0m\u001b[0;34m(\u001b[0m\u001b[0;34m)\u001b[0m\u001b[0;34m,\u001b[0m \u001b[0mlabels\u001b[0m\u001b[0;34m.\u001b[0m\u001b[0mcuda\u001b[0m\u001b[0;34m(\u001b[0m\u001b[0;34m)\u001b[0m\u001b[0;34m\u001b[0m\u001b[0m\n\u001b[0;32m---> 75\u001b[0;31m     \u001b[0moutput\u001b[0m \u001b[0;34m=\u001b[0m \u001b[0mmodel\u001b[0m\u001b[0;34m(\u001b[0m\u001b[0mimages\u001b[0m\u001b[0;34m)\u001b[0m\u001b[0;34m\u001b[0m\u001b[0m\n\u001b[0m\u001b[1;32m     76\u001b[0m     \u001b[0mpredicted\u001b[0m \u001b[0;34m=\u001b[0m \u001b[0mtorch\u001b[0m\u001b[0;34m.\u001b[0m\u001b[0mmax\u001b[0m\u001b[0;34m(\u001b[0m\u001b[0moutput\u001b[0m\u001b[0;34m,\u001b[0m \u001b[0;36m1\u001b[0m\u001b[0;34m)\u001b[0m\u001b[0;34m[\u001b[0m\u001b[0;36m1\u001b[0m\u001b[0;34m]\u001b[0m\u001b[0;34m\u001b[0m\u001b[0m\n\u001b[1;32m     77\u001b[0m     \u001b[0mfig\u001b[0m\u001b[0;34m,\u001b[0m \u001b[0maxes\u001b[0m \u001b[0;34m=\u001b[0m \u001b[0mplt\u001b[0m\u001b[0;34m.\u001b[0m\u001b[0msubplots\u001b[0m\u001b[0;34m(\u001b[0m\u001b[0;36m1\u001b[0m\u001b[0;34m,\u001b[0m\u001b[0;36m6\u001b[0m\u001b[0;34m)\u001b[0m\u001b[0;34m\u001b[0m\u001b[0m\n",
      "\u001b[0;32m~/.virtualenvs/DeepLearning/lib/python3.6/site-packages/torch/nn/modules/module.py\u001b[0m in \u001b[0;36m__call__\u001b[0;34m(self, *input, **kwargs)\u001b[0m\n\u001b[1;32m    475\u001b[0m             \u001b[0mresult\u001b[0m \u001b[0;34m=\u001b[0m \u001b[0mself\u001b[0m\u001b[0;34m.\u001b[0m\u001b[0m_slow_forward\u001b[0m\u001b[0;34m(\u001b[0m\u001b[0;34m*\u001b[0m\u001b[0minput\u001b[0m\u001b[0;34m,\u001b[0m \u001b[0;34m**\u001b[0m\u001b[0mkwargs\u001b[0m\u001b[0;34m)\u001b[0m\u001b[0;34m\u001b[0m\u001b[0m\n\u001b[1;32m    476\u001b[0m         \u001b[0;32melse\u001b[0m\u001b[0;34m:\u001b[0m\u001b[0;34m\u001b[0m\u001b[0m\n\u001b[0;32m--> 477\u001b[0;31m             \u001b[0mresult\u001b[0m \u001b[0;34m=\u001b[0m \u001b[0mself\u001b[0m\u001b[0;34m.\u001b[0m\u001b[0mforward\u001b[0m\u001b[0;34m(\u001b[0m\u001b[0;34m*\u001b[0m\u001b[0minput\u001b[0m\u001b[0;34m,\u001b[0m \u001b[0;34m**\u001b[0m\u001b[0mkwargs\u001b[0m\u001b[0;34m)\u001b[0m\u001b[0;34m\u001b[0m\u001b[0m\n\u001b[0m\u001b[1;32m    478\u001b[0m         \u001b[0;32mfor\u001b[0m \u001b[0mhook\u001b[0m \u001b[0;32min\u001b[0m \u001b[0mself\u001b[0m\u001b[0;34m.\u001b[0m\u001b[0m_forward_hooks\u001b[0m\u001b[0;34m.\u001b[0m\u001b[0mvalues\u001b[0m\u001b[0;34m(\u001b[0m\u001b[0;34m)\u001b[0m\u001b[0;34m:\u001b[0m\u001b[0;34m\u001b[0m\u001b[0m\n\u001b[1;32m    479\u001b[0m             \u001b[0mhook_result\u001b[0m \u001b[0;34m=\u001b[0m \u001b[0mhook\u001b[0m\u001b[0;34m(\u001b[0m\u001b[0mself\u001b[0m\u001b[0;34m,\u001b[0m \u001b[0minput\u001b[0m\u001b[0;34m,\u001b[0m \u001b[0mresult\u001b[0m\u001b[0;34m)\u001b[0m\u001b[0;34m\u001b[0m\u001b[0m\n",
      "\u001b[0;32m<ipython-input-27-c9da563c6f58>\u001b[0m in \u001b[0;36mforward\u001b[0;34m(self, x)\u001b[0m\n\u001b[1;32m    187\u001b[0m         \u001b[0mx\u001b[0m \u001b[0;34m=\u001b[0m \u001b[0mF\u001b[0m\u001b[0;34m.\u001b[0m\u001b[0mrelu\u001b[0m\u001b[0;34m(\u001b[0m\u001b[0mF\u001b[0m\u001b[0;34m.\u001b[0m\u001b[0mmax_pool2d\u001b[0m\u001b[0;34m(\u001b[0m\u001b[0mself\u001b[0m\u001b[0;34m.\u001b[0m\u001b[0mconv2\u001b[0m\u001b[0;34m(\u001b[0m\u001b[0mx\u001b[0m\u001b[0;34m)\u001b[0m\u001b[0;34m,\u001b[0m \u001b[0;36m2\u001b[0m\u001b[0;34m)\u001b[0m\u001b[0;34m)\u001b[0m\u001b[0;34m\u001b[0m\u001b[0m\n\u001b[1;32m    188\u001b[0m         \u001b[0mx\u001b[0m \u001b[0;34m=\u001b[0m \u001b[0mF\u001b[0m\u001b[0;34m.\u001b[0m\u001b[0mrelu\u001b[0m\u001b[0;34m(\u001b[0m\u001b[0mself\u001b[0m\u001b[0;34m.\u001b[0m\u001b[0mconv3\u001b[0m\u001b[0;34m(\u001b[0m\u001b[0mx\u001b[0m\u001b[0;34m)\u001b[0m\u001b[0;34m)\u001b[0m\u001b[0;34m\u001b[0m\u001b[0m\n\u001b[0;32m--> 189\u001b[0;31m         \u001b[0mx\u001b[0m \u001b[0;34m=\u001b[0m \u001b[0mF\u001b[0m\u001b[0;34m.\u001b[0m\u001b[0mrelu\u001b[0m\u001b[0;34m(\u001b[0m\u001b[0mF\u001b[0m\u001b[0;34m.\u001b[0m\u001b[0mmax_pool2d\u001b[0m\u001b[0;34m(\u001b[0m\u001b[0mself\u001b[0m\u001b[0;34m.\u001b[0m\u001b[0mconv4\u001b[0m\u001b[0;34m(\u001b[0m\u001b[0mx\u001b[0m\u001b[0;34m)\u001b[0m\u001b[0;34m,\u001b[0m \u001b[0;36m2\u001b[0m\u001b[0;34m)\u001b[0m\u001b[0;34m)\u001b[0m\u001b[0;34m\u001b[0m\u001b[0m\n\u001b[0m\u001b[1;32m    190\u001b[0m         \u001b[0mx\u001b[0m \u001b[0;34m=\u001b[0m \u001b[0mx\u001b[0m\u001b[0;34m.\u001b[0m\u001b[0mview\u001b[0m\u001b[0;34m(\u001b[0m\u001b[0;34m-\u001b[0m\u001b[0;36m1\u001b[0m\u001b[0;34m,\u001b[0m \u001b[0;36m2560\u001b[0m\u001b[0;34m)\u001b[0m\u001b[0;34m\u001b[0m\u001b[0m\n\u001b[1;32m    191\u001b[0m         \u001b[0mx\u001b[0m \u001b[0;34m=\u001b[0m \u001b[0mself\u001b[0m\u001b[0;34m.\u001b[0m\u001b[0mbatchnorm\u001b[0m\u001b[0;34m(\u001b[0m\u001b[0mx\u001b[0m\u001b[0;34m)\u001b[0m\u001b[0;34m\u001b[0m\u001b[0m\n",
      "\u001b[0;32m~/.virtualenvs/DeepLearning/lib/python3.6/site-packages/torch/nn/modules/module.py\u001b[0m in \u001b[0;36m__call__\u001b[0;34m(self, *input, **kwargs)\u001b[0m\n\u001b[1;32m    475\u001b[0m             \u001b[0mresult\u001b[0m \u001b[0;34m=\u001b[0m \u001b[0mself\u001b[0m\u001b[0;34m.\u001b[0m\u001b[0m_slow_forward\u001b[0m\u001b[0;34m(\u001b[0m\u001b[0;34m*\u001b[0m\u001b[0minput\u001b[0m\u001b[0;34m,\u001b[0m \u001b[0;34m**\u001b[0m\u001b[0mkwargs\u001b[0m\u001b[0;34m)\u001b[0m\u001b[0;34m\u001b[0m\u001b[0m\n\u001b[1;32m    476\u001b[0m         \u001b[0;32melse\u001b[0m\u001b[0;34m:\u001b[0m\u001b[0;34m\u001b[0m\u001b[0m\n\u001b[0;32m--> 477\u001b[0;31m             \u001b[0mresult\u001b[0m \u001b[0;34m=\u001b[0m \u001b[0mself\u001b[0m\u001b[0;34m.\u001b[0m\u001b[0mforward\u001b[0m\u001b[0;34m(\u001b[0m\u001b[0;34m*\u001b[0m\u001b[0minput\u001b[0m\u001b[0;34m,\u001b[0m \u001b[0;34m**\u001b[0m\u001b[0mkwargs\u001b[0m\u001b[0;34m)\u001b[0m\u001b[0;34m\u001b[0m\u001b[0m\n\u001b[0m\u001b[1;32m    478\u001b[0m         \u001b[0;32mfor\u001b[0m \u001b[0mhook\u001b[0m \u001b[0;32min\u001b[0m \u001b[0mself\u001b[0m\u001b[0;34m.\u001b[0m\u001b[0m_forward_hooks\u001b[0m\u001b[0;34m.\u001b[0m\u001b[0mvalues\u001b[0m\u001b[0;34m(\u001b[0m\u001b[0;34m)\u001b[0m\u001b[0;34m:\u001b[0m\u001b[0;34m\u001b[0m\u001b[0m\n\u001b[1;32m    479\u001b[0m             \u001b[0mhook_result\u001b[0m \u001b[0;34m=\u001b[0m \u001b[0mhook\u001b[0m\u001b[0;34m(\u001b[0m\u001b[0mself\u001b[0m\u001b[0;34m,\u001b[0m \u001b[0minput\u001b[0m\u001b[0;34m,\u001b[0m \u001b[0mresult\u001b[0m\u001b[0;34m)\u001b[0m\u001b[0;34m\u001b[0m\u001b[0m\n",
      "\u001b[0;32m~/.virtualenvs/DeepLearning/lib/python3.6/site-packages/torch/nn/modules/conv.py\u001b[0m in \u001b[0;36mforward\u001b[0;34m(self, input)\u001b[0m\n\u001b[1;32m    299\u001b[0m     \u001b[0;32mdef\u001b[0m \u001b[0mforward\u001b[0m\u001b[0;34m(\u001b[0m\u001b[0mself\u001b[0m\u001b[0;34m,\u001b[0m \u001b[0minput\u001b[0m\u001b[0;34m)\u001b[0m\u001b[0;34m:\u001b[0m\u001b[0;34m\u001b[0m\u001b[0m\n\u001b[1;32m    300\u001b[0m         return F.conv2d(input, self.weight, self.bias, self.stride,\n\u001b[0;32m--> 301\u001b[0;31m                         self.padding, self.dilation, self.groups)\n\u001b[0m\u001b[1;32m    302\u001b[0m \u001b[0;34m\u001b[0m\u001b[0m\n\u001b[1;32m    303\u001b[0m \u001b[0;34m\u001b[0m\u001b[0m\n",
      "\u001b[0;31mRuntimeError\u001b[0m: $ Torch: not enough memory: you tried to allocate 0GB. Buy new RAM! at /pytorch/aten/src/TH/THGeneral.cpp:204"
     ]
    },
    {
     "data": {
      "image/png": "[encoded data removed]",
      "text/plain": [
       "<Figure size 936x288 with 4 Axes>"
      ]
     },
     "metadata": {
      "needs_background": "light"
     },
     "output_type": "display_data"
    }
   ],
   "source": [
    "run_experiment(Args())"
   ]
  },
  {
   "cell_type": "code",
   "execution_count": 25,
   "metadata": {
    "colab": {},
    "colab_type": "code",
    "id": "2OpAU1x3Y55R"
   },
   "outputs": [
    {
     "name": "stderr",
     "output_type": "stream",
     "text": [
      "\r",
      "Validation:   0%|          | 0/10 [00:00<?, ?it/s]"
     ]
    },
    {
     "name": "stdout",
     "output_type": "stream",
     "text": [
      "using mnist\n"
     ]
    },
    {
     "name": "stderr",
     "output_type": "stream",
     "text": [
      "Validation: 100%|██████████| 10/10 [00:10<00:00,  1.02s/it]\n"
     ]
    },
    {
     "name": "stdout",
     "output_type": "stream",
     "text": [
      "\n",
      "Epoch: 0 validation test results - Average val_loss: 7.9233, val_acc: 1069.0/10000 (10.69%)\n"
     ]
    },
    {
     "data": {
      "image/png": "[encoded data removed]",
      "text/plain": [
       "<Figure size 432x288 with 6 Axes>"
      ]
     },
     "metadata": {
      "needs_background": "light"
     },
     "output_type": "display_data"
    }
   ],
   "source": [
    "ultimate_fashion_model = P2Q13UltimateNet()\n",
    "ultimate_fashion_model.load_state_dict(torch.load('ultimate_model.pt'))\n",
    "ultimate_fashion_model.eval()\n",
    "\n",
    "train_loader, test_loader, _, _, run_path = prepare_dataset(args)\n",
    "val_acc = test(ultimate_fashion_model, test_loader, 0, total_minibatch_count=0, val_losses=[], val_accs=[])\n",
    "\n",
    "# Predict and Test\n",
    "images, labels = next(iter(test_loader))\n",
    "if args.cuda:\n",
    "    images, labels = images.cuda(), labels.cuda()\n",
    "output = ultimate_fashion_model(images)\n",
    "predicted = torch.max(output, 1)[1]\n",
    "fig, axes = plt.subplots(1,6)\n",
    "for i, (axis, img, lbl) in enumerate(zip(axes, images, predicted)):\n",
    "    if i > 5:\n",
    "        break\n",
    "    img = img.permute(1,2,0).squeeze()\n",
    "    axis.imshow(img)\n",
    "    axis.set_title(str(lbl.data))\n",
    "    axis.set_yticklabels([])\n",
    "    axis.set_xticklabels([])"
   ]
  },
  {
   "cell_type": "code",
   "execution_count": null,
   "metadata": {},
   "outputs": [],
   "source": []
  }
 ],
 "metadata": {
  "accelerator": "GPU",
  "colab": {
   "collapsed_sections": [],
   "name": "cs482_hw2.ipynb",
   "provenance": [],
   "version": "0.3.2"
  },
  "kernelspec": {
   "display_name": "Python 3",
   "language": "python",
   "name": "python3"
  },
  "language_info": {
   "codemirror_mode": {
    "name": "ipython",
    "version": 3
   },
   "file_extension": ".py",
   "mimetype": "text/x-python",
   "name": "python",
   "nbconvert_exporter": "python",
   "pygments_lexer": "ipython3",
   "version": "3.6.7"
  }
 },
 "nbformat": 4,
 "nbformat_minor": 1
}
